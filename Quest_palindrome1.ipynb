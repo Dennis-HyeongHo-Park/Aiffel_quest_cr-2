{
  "nbformat": 4,
  "nbformat_minor": 0,
  "metadata": {
    "colab": {
      "provenance": [],
      "include_colab_link": true
    },
    "kernelspec": {
      "name": "python3",
      "display_name": "Python 3"
    },
    "language_info": {
      "name": "python"
    }
  },
  "cells": [
    {
      "cell_type": "markdown",
      "metadata": {
        "id": "view-in-github",
        "colab_type": "text"
      },
      "source": [
        "<a href=\"https://colab.research.google.com/github/tswhy1/Aiffel_quest_cr/blob/main/Quest_palindrome1.ipynb\" target=\"_parent\"><img src=\"https://colab.research.google.com/assets/colab-badge.svg\" alt=\"Open In Colab\"/></a>"
      ]
    },
    {
      "cell_type": "code",
      "execution_count": 15,
      "metadata": {
        "id": "MukkQ8ZbIXYj",
        "colab": {
          "base_uri": "https://localhost:8080/"
        },
        "outputId": "a2774dce-bf08-430f-905c-d0572d2ff52d"
      },
      "outputs": [
        {
          "output_type": "stream",
          "name": "stdout",
          "text": [
            "입력값:\n",
            "nursesrun\n",
            "입력된 단어: nursesrun\n"
          ]
        },
        {
          "output_type": "execute_result",
          "data": {
            "text/plain": [
              "True"
            ]
          },
          "metadata": {},
          "execution_count": 15
        }
      ],
      "source": [
        "# 회문이란? 앞에서부터 읽어도 뒤에서부터 읽어도 같은 단어, 구, 문장, 숫자, 혹은 문단 (조건) 텍스트를 입력 받는다.\n",
        "# 입력된 단어를 출력한다\n",
        "# 뒤집힌 단어를 출력한다.\n",
        "# 입력된 단어가 회문이 맞는지 확인하여 출력할 수 있게 한다\n",
        "# input, 자료형, 제어문, 함수 활용\n",
        "# 활용할 요소: input(), 자료형: string, 제어문: if-else, 함수: is+palindrome() 함수를 정의해서 회문 여부 확인\n",
        "\n",
        "def is_palindrome(text):\n",
        "  processed_text = text.replace(' ', '').lower()\n",
        "  return processed_text == processed_text[::-1]\n",
        "  print(f\"뒤집힌 단어: {reversed_text}\")\n",
        "  if text == reversed_text:\n",
        "    print(\"입력된 단어는 회문입니다.\")\n",
        "  else:\n",
        "      print(\"입력된 단어는 회문이 아닙니다.\")\n",
        "\n",
        "text = input(\"입력값:\\n\")\n",
        "print(f\"입력된 단어: {text}\")\n",
        "is_palindrome(text)"
      ]
    },
    {
      "cell_type": "markdown",
      "source": [],
      "metadata": {
        "id": "NMkqYhz5N8ey"
      }
    }
  ]
}