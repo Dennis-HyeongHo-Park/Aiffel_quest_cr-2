# 회문이란? 앞에서부터 읽어도 뒤에서부터 읽어도 같은 단어, 구, 문장, 숫자, 혹은 문단 (조건) 텍스트를 입력 받는다.
# 입력된 단어를 출력한다
# 뒤집힌 단어를 출력한다.
# 입력된 단어가 회문이 맞는지 확인하여 출력할 수 있게 한다
# input, 자료형, 제어문, 함수 활용
# 활용할 요소: input(), 자료형: string, 제어문: if-else, 함수: is+palindrome() 함수를 정의해서 회문 여부 확인

def is_palindrome(text):
  processed_text = text.replace(' ', '').lower()
  return processed_text == processed_text[::-1]
  print(f"뒤집힌 단어: {reversed_text}")
  if text == reversed_text:
    print("입력된 단어는 회문입니다.")
  else:
      print("입력된 단어는 회문이 아닙니다.")

text = input("입력값:\n")
print(f"입력된 단어: {text}")
is_palindrome(text)
